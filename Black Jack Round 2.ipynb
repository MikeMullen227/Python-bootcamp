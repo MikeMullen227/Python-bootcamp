{
 "cells": [
  {
   "cell_type": "code",
   "execution_count": 33,
   "metadata": {
    "collapsed": false
   },
   "outputs": [],
   "source": [
    "#global variables\n",
    "import random\n",
    "\n",
    "playing = False\n",
    "\n",
    "chip_pool = 100\n",
    "\n",
    "bet = 1\n",
    "\n",
    "restart_phrase = 'Press d to deal the cards again or press q to quit'\n",
    "\n",
    "suits = ('S','D','H','C')\n",
    "\n",
    "ranks = ('A','2','3','4','5','6','7','8','9','10','J','Q','K')\n",
    "\n",
    "card_value = {'A':1,'2':2,'3':3,'4':4,'5':5,'6':6,'7':7,'8':8,'9':9,'10':10,'J':10,'Q':10,'K':10}\n"
   ]
  },
  {
   "cell_type": "code",
   "execution_count": 34,
   "metadata": {
    "collapsed": false
   },
   "outputs": [],
   "source": [
    "class Card:\n",
    "    \n",
    "    def __init__(self,suit,rank):\n",
    "        self.suit = suit\n",
    "        self.rank = rank\n",
    "    \n",
    "    def __str__(self):\n",
    "        return self.suit + self.rank\n",
    "    \n",
    "    def draw(self):\n",
    "        print(self.suit + self.rank)"
   ]
  },
  {
   "cell_type": "code",
   "execution_count": 35,
   "metadata": {
    "collapsed": true
   },
   "outputs": [],
   "source": [
    "class Hand:\n",
    "    def __init__(self):\n",
    "        self.cards = []\n",
    "        self.value = 0\n",
    "        self.ace = False\n",
    "        \n",
    "    def __str__(self):\n",
    "        hand_comp = \"\"\n",
    "        \n",
    "        for card in self.cards:\n",
    "            card_name = card.__str__\n",
    "            hand_comp += \" \" + card_name\n",
    "            \n",
    "        return \"The hand has %s\" %hand_comp \n",
    "    \n",
    "    def card_add(self, card):\n",
    "        self.cards.append(card)\n",
    "        \n",
    "        if card.rank == 'A':\n",
    "            self.ace = True\n",
    "        self.value += card_value[card.rank]\n",
    "        \n",
    "    def calc_value(self):\n",
    "        if (self.ace == True and self.value < 12):\n",
    "            return self.value + 10\n",
    "        else:\n",
    "            return self.value\n",
    "        \n",
    "    def draw(self, hidden):\n",
    "        if hidden == True and playing == True:\n",
    "            starting_card = 1\n",
    "        else:\n",
    "            starting_card = 0\n",
    "        for x in range(starting_card, len(self.cards)):\n",
    "            self.cards[x].draw()\n",
    "            "
   ]
  },
  {
   "cell_type": "code",
   "execution_count": 36,
   "metadata": {
    "collapsed": true
   },
   "outputs": [],
   "source": [
    "class Deck:\n",
    "    def __init__(self):\n",
    "        self.deck = []\n",
    "        for suit in suits:\n",
    "            for rank in ranks:\n",
    "                self.deck.append(Card(suit, rank))\n",
    "    \n",
    "    def shuffle(self):\n",
    "        random.shuffle(self.deck)\n",
    "        \n",
    "    def deal(self):\n",
    "        single_card = self.deck.pop()\n",
    "        return single_card\n",
    "    \n",
    "    def __str__(self):\n",
    "        deck_comp = \"\"\n",
    "        for card in self.cards:\n",
    "            deck_comp += \"\" + deck_comp.__str__()\n",
    "            \n",
    "        return \"The deck has \" + deck_comp"
   ]
  },
  {
   "cell_type": "code",
   "execution_count": 37,
   "metadata": {
    "collapsed": true
   },
   "outputs": [],
   "source": [
    "def make_bet():\n",
    "    global bet\n",
    "    bet = 0\n",
    "    \n",
    "    print \"How many chips would you like to bet? (Whole integers please) \"\n",
    "    \n",
    "    while bet == 0:\n",
    "        bet_comp = raw_input()\n",
    "        bet_comp = int(bet_comp)\n",
    "        \n",
    "        if bet_comp >= 1 and bet_comp < chip_pool:\n",
    "            bet = bet_comp\n",
    "        else:\n",
    "            print \"Please enter a valid amount. You only have \" + chip_pool + \" chips left.\"\n",
    "            "
   ]
  },
  {
   "cell_type": "code",
   "execution_count": 39,
   "metadata": {
    "collapsed": true
   },
   "outputs": [],
   "source": [
    "def deal_cards():\n",
    "    global result, playing, deck, player_hand, dealer_hand, chip_pool, bet\n",
    "    \n",
    "    deck = Deck()\n",
    "    \n",
    "    deck.shuffle()\n",
    "    \n",
    "    make_bet()\n",
    "    \n",
    "    player_hand = Hand()\n",
    "    dealer_hand = Hand()\n",
    "    \n",
    "    player_hand.card_add(deck.deal())\n",
    "    player_hand.card_add(deck.deal())\n",
    "    \n",
    "    dealer_hand.card_add(deck.deal())\n",
    "    dealer_hand.card_add(deck.deal())\n",
    "    \n",
    "    result = \"Hit or Stand. Please enter an h or s. \"\n",
    "    \n",
    "    if playing == True:\n",
    "        print \"Fold, sorry.\"\n",
    "        chip_pool -= bet\n",
    "    \n",
    "    playing = True\n",
    "    game_step()"
   ]
  },
  {
   "cell_type": "code",
   "execution_count": 40,
   "metadata": {
    "collapsed": true
   },
   "outputs": [],
   "source": [
    "def hit():\n",
    "    global player_hand, dealer_hand, playing, chip_pool, deck, result, bet\n",
    "    \n",
    "    if playing:\n",
    "        if player_hand.calc_value() <= 21:\n",
    "            player_hand.card_add(deck.deal())\n",
    "            \n",
    "        print \"Player hand is %s\" %player_hand\n",
    "        \n",
    "        if player_hand.calc_value() > 21:\n",
    "            result = \"Busted! \" + restart_phrase()\n",
    "            \n",
    "            chip_pool -= bet\n",
    "            playing = False\n",
    "            \n",
    "    else:\n",
    "        result = \"Sorry can't hit \" + restart_phrase()\n",
    "        \n",
    "    game_step()"
   ]
  },
  {
   "cell_type": "code",
   "execution_count": null,
   "metadata": {
    "collapsed": true
   },
   "outputs": [],
   "source": [
    "def stand():\n",
    "    global player_hand, dealer_hand, playing, chip_pool, deck, result, bet\n",
    "    \n",
    "    if playing == False:\n",
    "        if player_hand.calc_value() > 0:\n",
    "            result = \"Sorry you can't stand.\"\n",
    "            \n",
    "    else:\n",
    "        while dealer_hand.calc_value < 17:\n",
    "            dealer_hand.card_add(deck.deal())\n",
    "            \n",
    "        if dealer_hand.calc_value > 21:\n",
    "            result = \"Dealer busted. You win! \" + restart_phrase\n",
    "            chip_pool += bet\n",
    "            playing = False\n",
    "            \n",
    "        if player_hand.calc_value > dealer_hand.calc_value:\n",
    "            result = \"Congratulations you win! \" + restart_phrase\n",
    "            "
   ]
  }
 ],
 "metadata": {
  "kernelspec": {
   "display_name": "Python [conda root]",
   "language": "python",
   "name": "conda-root-py"
  },
  "language_info": {
   "codemirror_mode": {
    "name": "ipython",
    "version": 2
   },
   "file_extension": ".py",
   "mimetype": "text/x-python",
   "name": "python",
   "nbconvert_exporter": "python",
   "pygments_lexer": "ipython2",
   "version": "2.7.12"
  }
 },
 "nbformat": 4,
 "nbformat_minor": 1
}
