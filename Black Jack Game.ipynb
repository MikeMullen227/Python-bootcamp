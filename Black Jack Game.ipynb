{
 "cells": [
  {
   "cell_type": "code",
   "execution_count": 5,
   "metadata": {
    "collapsed": true
   },
   "outputs": [],
   "source": [
    "import random\n",
    "\n",
    "#Spades, Diamonds, Hearts, Clubs\n",
    "suits = ('S','D','H','C')\n",
    "\n",
    "#Possible Card Ranks\n",
    "ranks = ('A',2,3,4,5,6,7,8,9,10,'J','Q','K')\n",
    "\n",
    "#Point equivalents to card values. Ace can also count as 11 so needs to be addressed later\n",
    "card_value = {'A':1,'2':2,'3':3,'4':4,'5':5,'6':6,'7':7,'8':8,'9':9,'10':10,'J':10, 'Q':10, 'K':10}"
   ]
  },
  {
   "cell_type": "code",
   "execution_count": 2,
   "metadata": {
    "collapsed": false
   },
   "outputs": [],
   "source": []
  },
  {
   "cell_type": "code",
   "execution_count": 7,
   "metadata": {
    "collapsed": true
   },
   "outputs": [],
   "source": [
    "class Card:\n",
    "    def __init__(self, suit, rank):\n",
    "        self.suit = suit\n",
    "        self.rank = rank\n",
    "    \n",
    "    def __str__(self):\n",
    "        return self.suit + self.rank\n",
    "    \n",
    "    def grab_suit(self):\n",
    "        return self.suit\n",
    "    \n",
    "    def grab_rank(self):\n",
    "        return self.rank\n",
    "    \n",
    "    def draw(self):\n",
    "        print (self.suit + self.rank)"
   ]
  },
  {
   "cell_type": "code",
   "execution_count": null,
   "metadata": {
    "collapsed": true
   },
   "outputs": [],
   "source": [
    "class Hand:\n",
    "    def __init__(self)\n",
    "        self.cards = []\n",
    "        self.value = 0\n",
    "      \n",
    "    \n",
    "    def __str__(self)\n",
    "    #return a string of current hand composition\n",
    "    hand_comp = \"\"\n",
    "    for card in self.cards:\n",
    "        card_name = card.__str__()\n",
    "        hand_comp += \" \" + card_name\n",
    "        \n",
    "        return \"The hand has %s\" + %hand_comp\n",
    "    \n",
    "    def add_card(self, card)\n",
    "    \n",
    "        self.cards.append(card)\n",
    "        \n",
    "        \n",
    "    "
   ]
  },
  {
   "cell_type": "code",
   "execution_count": null,
   "metadata": {
    "collapsed": true
   },
   "outputs": [],
   "source": [
    "class Deck:\n",
    "    pass"
   ]
  },
  {
   "cell_type": "code",
   "execution_count": 3,
   "metadata": {
    "collapsed": true
   },
   "outputs": [],
   "source": []
  }
 ],
 "metadata": {
  "kernelspec": {
   "display_name": "Python [conda root]",
   "language": "python",
   "name": "conda-root-py"
  },
  "language_info": {
   "codemirror_mode": {
    "name": "ipython",
    "version": 2
   },
   "file_extension": ".py",
   "mimetype": "text/x-python",
   "name": "python",
   "nbconvert_exporter": "python",
   "pygments_lexer": "ipython2",
   "version": "2.7.12"
  }
 },
 "nbformat": 4,
 "nbformat_minor": 1
}
