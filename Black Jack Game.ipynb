{
 "cells": [
  {
   "cell_type": "code",
   "execution_count": 1,
   "metadata": {
    "collapsed": false
   },
   "outputs": [],
   "source": [
    "#Used for card shuffle\n",
    "import random\n",
    "\n",
    "#boolean to know if hand is in play\n",
    "playing = False\n",
    "\n",
    "chip_pool = 100\n",
    "\n",
    "\n",
    "bet = 1\n",
    "\n",
    "#Spades, Diamonds, Hearts, Clubs\n",
    "suits = ('S','D','H','C')\n",
    "\n",
    "#Possible Card Ranks\n",
    "ranking = ('A','2','3','4','5','6','7','8','9','10','J','Q','K')\n",
    "\n",
    "#Point equivalents to card values. Ace can also count as 11 so needs to be addressed later\n",
    "card_value = {'A':1,'2':2,'3':3,'4':4,'5':5,'6':6,'7':7,'8':8,'9':9,'10':10,'J':10,'Q':10,'K':10}\n",
    "\n",
    "restart_phrase = \"Press 'd' to deal out the cards again or press 'q' to quit.\""
   ]
  },
  {
   "cell_type": "code",
   "execution_count": 2,
   "metadata": {
    "collapsed": true
   },
   "outputs": [],
   "source": [
    "class Card:\n",
    "    def __init__(self, suit, rank):\n",
    "        self.suit = suit\n",
    "        self.rank = rank\n",
    "    \n",
    "    def __str__(self):\n",
    "        return self.suit + self.rank\n",
    "    \n",
    "    def grab_suit(self):\n",
    "        return self.suit\n",
    "    \n",
    "    def grab_rank(self):\n",
    "        return self.rank\n",
    "    \n",
    "    def draw(self):\n",
    "        print (self.suit + self.rank)"
   ]
  },
  {
   "cell_type": "code",
   "execution_count": 3,
   "metadata": {
    "collapsed": false
   },
   "outputs": [],
   "source": [
    "class Hand:\n",
    "    def __init__(self):\n",
    "        self.cards = []\n",
    "        self.value = 0\n",
    "        # Aces can be 1 or 11 so need to define it here\n",
    "        self.ace = False \n",
    "    \n",
    "    def __str__(self):\n",
    "        #return a string of current hand composition\n",
    "        hand_comp = \"\"\n",
    "        for card in self.cards:\n",
    "            card_name = card.__str__()\n",
    "            hand_comp += \" \" + card_name\n",
    "        \n",
    "        return \"The hand has %s\" %hand_comp\n",
    "    \n",
    "    def add_card(self, card):\n",
    "        #add a card to the hand\n",
    "        self.cards.append(card)\n",
    "        \n",
    "        #check for aces\n",
    "        if card.rank == 'A':\n",
    "            self.ace = True\n",
    "        self.value += card_value[card.rank]\n",
    "        \n",
    "    def calc_value(self):\n",
    "        #calculate the value of the hand, make aces an 11 if they don't bust the hand\n",
    "        if (self.ace == True and self.value < 12):\n",
    "            return self.value + 10\n",
    "        else:\n",
    "            return self.value\n",
    "        \n",
    "    def draw(self, hidden):\n",
    "        if hidden == True and playing == True:\n",
    "        #don't show first hidden card\n",
    "            starting_card = 1\n",
    "        else:\n",
    "            starting_card = 0\n",
    "        for x in range(starting_card, len(self.cards)):\n",
    "            self.cards[x].draw()\n",
    "    "
   ]
  },
  {
   "cell_type": "code",
   "execution_count": 4,
   "metadata": {
    "collapsed": false
   },
   "outputs": [],
   "source": [
    "class Deck:\n",
    "    \n",
    "    def __init__(self):\n",
    "        self.deck = []\n",
    "        for suit in suits:\n",
    "            for rank in ranking:\n",
    "                self.deck.append(Card(suit, rank))\n",
    "                \n",
    "    def shuffle(self):\n",
    "        random.shuffle(self.deck)\n",
    "        \n",
    "    def deal(self):\n",
    "        single_card = self.deck.pop()\n",
    "        return single_card\n",
    "    \n",
    "    def __str__(self):\n",
    "        deck_comp = \"\"\n",
    "        for card in self.cards:\n",
    "            deck_comp += \" \" + deck_comp.__str__()\n",
    "        return \"The deck has \" + deck_comp\n",
    "        "
   ]
  },
  {
   "cell_type": "code",
   "execution_count": 5,
   "metadata": {
    "collapsed": false
   },
   "outputs": [],
   "source": [
    "def make_bet():\n",
    "    \n",
    "    global bet\n",
    "    bet = 0\n",
    "    \n",
    "    print \"What amount of chips would you like to bet? (Whole integers please.)\"\n",
    "        \n",
    "    while bet == 0:\n",
    "        bet_comp = raw_input()\n",
    "        bet_comp = int(bet_comp)\n",
    "        if bet_comp >= 1 and bet_comp <= chip_pool:\n",
    "            bet = bet_comp\n",
    "        else:\n",
    "            print \"Invalid bet. You only have \" + str(chip_pool) + \" remaining\"\n",
    "            \n",
    "    \n",
    "   "
   ]
  },
  {
   "cell_type": "code",
   "execution_count": 6,
   "metadata": {
    "collapsed": false
   },
   "outputs": [],
   "source": [
    "def deal_cards():\n",
    "    \n",
    "    #set up all local variables\n",
    "    global result, playing, deck, player_hand, dealer_hand, chip_pool, bet\n",
    "    \n",
    "    #create a deck\n",
    "    deck = Deck()\n",
    "    \n",
    "    #shuffle the deck\n",
    "    deck.shuffle()\n",
    "    \n",
    "    #set up bet\n",
    "    make_bet()\n",
    "    \n",
    "    #set up both player and dealer hands\n",
    "    player_hand = Hand()\n",
    "    dealer_hand = Hand()\n",
    "    \n",
    "    #deal out initial cards\n",
    "    player_hand.add_card(deck.deal())\n",
    "    player_hand.add_card(deck.deal())\n",
    "    \n",
    "    dealer_hand.add_card(deck.deal())\n",
    "    dealer_hand.add_card(deck.deal())\n",
    "    \n",
    "    result = \"Hit or Stand? Press h or s: \"\n",
    "    \n",
    "    if playing == True:\n",
    "        print \"Fold, Sorry.\"\n",
    "        chip_pool -= bet\n",
    "    \n",
    "    playing = True\n",
    "    \n",
    "    game_step()"
   ]
  },
  {
   "cell_type": "code",
   "execution_count": 7,
   "metadata": {
    "collapsed": true
   },
   "outputs": [],
   "source": [
    "def hit():\n",
    "    \n",
    "    global playing, chip_pool, deck, player_hand, dealer_hand, result, bet\n",
    "    \n",
    "    #if hand is in play add card\n",
    "    if playing:\n",
    "        if player_hand.calc_value <= 21:\n",
    "            player_hand.add_card(deck.deal())\n",
    "        \n",
    "        print \"Players hand is %s\"  %player_hand\n",
    "        \n",
    "        if player_hand.calc_value > 21:\n",
    "            result = \"Busted! \" + restart_phrase\n",
    "            \n",
    "            chip_pool -= bet\n",
    "            playing = False\n",
    "            \n",
    "            \n",
    "    else:\n",
    "        result = \"Sorry, can't hit. \" + restart_phrase\n",
    "\n",
    "    game_step()        "
   ]
  },
  {
   "cell_type": "code",
   "execution_count": 8,
   "metadata": {
    "collapsed": true
   },
   "outputs": [],
   "source": [
    "def stand():\n",
    "    global playing, chip_pool, deck, player_hand, dealer_hand, result, bet\n",
    "    #this function will play the dealers hand since stand was chosen\n",
    "    \n",
    "    if playing == False:\n",
    "        if player_hand.calc_value() > 0:\n",
    "            result = \"Sorry, you can't stand!\"\n",
    "        \n",
    "    #now go through all other possible actions\n",
    "    else:\n",
    "        \n",
    "        #soft seventeen rule\n",
    "        while dealer_hand.calc_value() < 17:\n",
    "            dealer_hand.add_card(deck.deal())\n",
    "            \n",
    "            \n",
    "        #dealer busts\n",
    "        if dealer_hand.calc_value > 21:\n",
    "            result = \"Dealer busts, you win! \"+ restart_phrase\n",
    "            chip_pool += bet\n",
    "            playing == False\n",
    "        \n",
    "        #player has better hand then dealer\n",
    "        elif player_hand.calc_value() > dealer_hand.calc_value():\n",
    "            result = \"Congratulations you beat the dealer!\" + restart_phrase\n",
    "            chip_pool += bet\n",
    "            playing == False\n",
    "        \n",
    "        #hands are tied\n",
    "        elif player_hand.calc_value() == dealer_hand.calc_value():\n",
    "            result = \"Tied up, Push \" + restart_phrase\n",
    "            playing == False\n",
    "            \n",
    "        #dealer beat player\n",
    "        else:\n",
    "            result = \"Sorry but the dealer has won! \" + restart_phrase\n",
    "            chip_pool -= bet\n",
    "            playing == False\n",
    "            \n",
    "    game_step()      "
   ]
  },
  {
   "cell_type": "code",
   "execution_count": 9,
   "metadata": {
    "collapsed": true
   },
   "outputs": [],
   "source": [
    "def game_step():\n",
    "    #function to print game step/status on output\n",
    "    \n",
    "    #display player hand\n",
    "    print \"\"\n",
    "    print('Player hand is: '),\n",
    "    player_hand.draw(hidden =False)\n",
    "    \n",
    "    print('Player hand total is: ') + str(player_hand.calc_value())\n",
    "    \n",
    "    #display dealer hand\n",
    "    print ('Dealer hand is: '),\n",
    "    dealer_hand.draw(hidden =True)\n",
    "    \n",
    "    #if game round is over\n",
    "    if playing == False:\n",
    "        print \"--- for a total of \" + str(dealer_hand.calc_value())\n",
    "        print \"Chip total: \" + str(chip_pool)\n",
    "    #otherwise, don't know the second card yet\n",
    "    else:\n",
    "        print \"With another card hidden upside down.\"\n",
    "        \n",
    "    #print result of hit or stand\n",
    "    print result\n",
    "\n",
    "    player_input()"
   ]
  },
  {
   "cell_type": "code",
   "execution_count": 10,
   "metadata": {
    "collapsed": true
   },
   "outputs": [],
   "source": [
    "def game_exit():\n",
    "    print \"Thanks for playing!\"\n",
    "    exit()\n",
    "    "
   ]
  },
  {
   "cell_type": "code",
   "execution_count": 11,
   "metadata": {
    "collapsed": true
   },
   "outputs": [],
   "source": [
    "def player_input():\n",
    "    plin = raw_input().lower()\n",
    "    \n",
    "    if plin == 'h':\n",
    "        hit()\n",
    "    elif plin == 's':\n",
    "        stand()\n",
    "    elif plin == 'd':\n",
    "        deal_cards()\n",
    "    elif plin == 'q':\n",
    "        game_exit()\n",
    "    else:\n",
    "        print \"Invalid input...enter h, s, d, or q: \"\n",
    "        player_input()"
   ]
  },
  {
   "cell_type": "code",
   "execution_count": 12,
   "metadata": {
    "collapsed": true
   },
   "outputs": [],
   "source": [
    "def intro():\n",
    "    statement = '''Welcome to BlackJack! Get as close to 21 as you can without going over!\n",
    "    Dealer hits until she reaches 17. Aces count as 1 or 11.\n",
    "    Card output goes a letter followed by a number of face notation'''\n",
    "    print statement"
   ]
  },
  {
   "cell_type": "code",
   "execution_count": 13,
   "metadata": {
    "collapsed": false
   },
   "outputs": [
    {
     "name": "stdout",
     "output_type": "stream",
     "text": [
      "Welcome to BlackJack! Get as close to 21 as you can without going over!\n",
      "    Dealer hits until she reaches 17. Aces count as 1 or 11.\n",
      "    Card output goes a letter followed by a number of face notation\n",
      "What amount of chips would you like to bet? (Whole integers please.)\n",
      "6\n",
      "\n",
      "Player hand is:  D5\n",
      "S10\n",
      "Player hand total is: 15\n",
      "Dealer hand is:  HQ\n",
      "With another card hidden upside down.\n",
      "Hit or Stand? Press h or s: \n",
      "h\n",
      "Players hand is The hand has  D5 S10\n",
      "\n",
      "Player hand is:  D5\n",
      "S10\n",
      "Player hand total is: 15\n",
      "Dealer hand is:  D6\n",
      "HQ\n",
      "--- for a total of 16\n",
      "Chip total: 94\n",
      "Busted! Press 'd' to deal out the cards again or press 'q' to quit.\n",
      "q\n",
      "Thanks for playing!\n"
     ]
    }
   ],
   "source": [
    "#create a deck\n",
    "deck = Deck()\n",
    "#shuffle it\n",
    "deck.shuffle()\n",
    "#create player and dealer hand\n",
    "player_hand = Hand()\n",
    "dealer_hand = Hand()\n",
    "#print intro\n",
    "intro()\n",
    "#deal out the cards and start the game\n",
    "deal_cards()"
   ]
  },
  {
   "cell_type": "code",
   "execution_count": null,
   "metadata": {
    "collapsed": true
   },
   "outputs": [],
   "source": []
  },
  {
   "cell_type": "code",
   "execution_count": null,
   "metadata": {
    "collapsed": true
   },
   "outputs": [],
   "source": []
  },
  {
   "cell_type": "code",
   "execution_count": null,
   "metadata": {
    "collapsed": true
   },
   "outputs": [],
   "source": []
  }
 ],
 "metadata": {
  "anaconda-cloud": {},
  "kernelspec": {
   "display_name": "Python [conda root]",
   "language": "python",
   "name": "conda-root-py"
  },
  "language_info": {
   "codemirror_mode": {
    "name": "ipython",
    "version": 2
   },
   "file_extension": ".py",
   "mimetype": "text/x-python",
   "name": "python",
   "nbconvert_exporter": "python",
   "pygments_lexer": "ipython2",
   "version": "2.7.12"
  }
 },
 "nbformat": 4,
 "nbformat_minor": 1
}
