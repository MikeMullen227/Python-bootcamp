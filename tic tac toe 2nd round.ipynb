{
 "cells": [
  {
   "cell_type": "code",
   "execution_count": 1,
   "metadata": {
    "collapsed": true
   },
   "outputs": [],
   "source": [
    "from __future__ import print_function"
   ]
  },
  {
   "cell_type": "code",
   "execution_count": 2,
   "metadata": {
    "collapsed": false
   },
   "outputs": [],
   "source": [
    "#create board\n",
    "from IPython.display  import clear_output\n",
    "\n",
    "clear_output\n",
    "def display_board(board):\n",
    "    print(\" \" + board[7] + \" | \" + board[8] + \" | \" + board[9])\n",
    "    print(\"----\" + \"----\" + \"---- \")\n",
    "    print(\" \" + board[4] + \" | \" + board[5] + \" | \" + board[6])\n",
    "    print(\"-----------\")\n",
    "    print(\" \" + board[1] + \" | \" + board[2] + \" | \" + board[3])\n",
    "  \n",
    "\n",
    "   "
   ]
  },
  {
   "cell_type": "code",
   "execution_count": null,
   "metadata": {
    "collapsed": false
   },
   "outputs": [],
   "source": []
  },
  {
   "cell_type": "code",
   "execution_count": 3,
   "metadata": {
    "collapsed": true
   },
   "outputs": [],
   "source": [
    "def player_input():\n",
    "    marker = ''\n",
    "    while not (marker == 'X' or marker == 'O'):\n",
    "            marker = raw_input(\"Would you like to be X or O\").upper()\n",
    "            \n",
    "    if marker == 'X':\n",
    "        return ('X', 'O')\n",
    "    else:\n",
    "        return ('O', 'X')\n",
    "            "
   ]
  },
  {
   "cell_type": "code",
   "execution_count": 4,
   "metadata": {
    "collapsed": true
   },
   "outputs": [],
   "source": [
    "def place_marker(board, marker, position):\n",
    "    board[position] = marker"
   ]
  },
  {
   "cell_type": "code",
   "execution_count": 5,
   "metadata": {
    "collapsed": true
   },
   "outputs": [],
   "source": [
    "def win_check(board, mark):\n",
    "    return ((board[7] == mark and board[8] == mark and board[9] == mark) or\n",
    "           (board[7] == mark and board[5] == mark and board[3] == mark) or\n",
    "           (board[7] == mark and board[4] == mark and board[1] == mark) or\n",
    "           (board[8] == mark and board[5] == mark and board[2] == mark) or\n",
    "           (board[9] == mark and board[6] == mark and board[3] == mark) or\n",
    "           (board[4] == mark and board[5] == mark and board[6] == mark) or\n",
    "           (board[1] == mark and board[2] == mark and board[3] == mark) or\n",
    "           (board[1] == mark and board[5] == mark and board[9] == mark))"
   ]
  },
  {
   "cell_type": "code",
   "execution_count": 6,
   "metadata": {
    "collapsed": false
   },
   "outputs": [],
   "source": [
    "import random\n",
    "def choose_first():\n",
    "    if random.randint(0,1) == 0:\n",
    "        return 'Player 2'\n",
    "    else:\n",
    "        return 'Player 1'"
   ]
  },
  {
   "cell_type": "code",
   "execution_count": 7,
   "metadata": {
    "collapsed": false
   },
   "outputs": [],
   "source": [
    "def space_check(board, position):\n",
    "    return board[position] == ' '"
   ]
  },
  {
   "cell_type": "code",
   "execution_count": 8,
   "metadata": {
    "collapsed": false
   },
   "outputs": [],
   "source": [
    "def full_board_check(board):\n",
    "    for i in range(0,10):\n",
    "        if space_check(board, i):\n",
    "            return False\n",
    "        return True \n",
    "    \n",
    "        "
   ]
  },
  {
   "cell_type": "code",
   "execution_count": 9,
   "metadata": {
    "collapsed": false
   },
   "outputs": [],
   "source": [
    "def player_choice(board):\n",
    "    position = ''\n",
    "    while position not in '1 2 3 4 5 6 7 8 9'.split() or not space_check(board, int(position)):\n",
    "    \n",
    "        position = raw_input(\"Please enter a position on the board. Must be a number from 1 to 9: \")\n",
    "    \n",
    "        return int(position)"
   ]
  },
  {
   "cell_type": "code",
   "execution_count": 10,
   "metadata": {
    "collapsed": false
   },
   "outputs": [],
   "source": [
    "def replay():\n",
    "    return raw_input(\"Would you like to play again? Enter Yes or No: \").lower.startswith('y')"
   ]
  },
  {
   "cell_type": "code",
   "execution_count": null,
   "metadata": {
    "collapsed": false
   },
   "outputs": [
    {
     "name": "stdout",
     "output_type": "stream",
     "text": [
      "Welcome to the game!\n",
      "Would you like to be X or Ox\n",
      "Player 1 will go first.\n",
      "   |   |  \n",
      "------------ \n",
      "   |   |  \n",
      "-----------\n",
      "   |   |  \n",
      "Please enter a position on the board. Must be a number from 1 to 9: 1\n",
      "   |   |  \n",
      "------------ \n",
      "   |   |  \n",
      "-----------\n",
      " X |   |  \n",
      "Please enter a position on the board. Must be a number from 1 to 9: 5\n",
      "   |   |  \n",
      "------------ \n",
      "   | O |  \n",
      "-----------\n",
      " X |   |  \n",
      "Please enter a position on the board. Must be a number from 1 to 9: 3\n",
      "   |   |  \n",
      "------------ \n",
      "   | O |  \n",
      "-----------\n",
      " X |   | X\n",
      "Please enter a position on the board. Must be a number from 1 to 9: 2\n",
      "   |   |  \n",
      "------------ \n",
      "   | O |  \n",
      "-----------\n",
      " X | O | X\n",
      "Please enter a position on the board. Must be a number from 1 to 9: 8\n",
      "   | X |  \n",
      "------------ \n",
      "   | O |  \n",
      "-----------\n",
      " X | O | X\n",
      "Please enter a position on the board. Must be a number from 1 to 9: 4\n",
      "   | X |  \n",
      "------------ \n",
      " O | O |  \n",
      "-----------\n",
      " X | O | X\n",
      "Please enter a position on the board. Must be a number from 1 to 9: 6\n",
      "   | X |  \n",
      "------------ \n",
      " O | O | X\n",
      "-----------\n",
      " X | O | X\n",
      "Please enter a position on the board. Must be a number from 1 to 9: 9\n",
      "   | X | O\n",
      "------------ \n",
      " O | O | X\n",
      "-----------\n",
      " X | O | X\n",
      "Please enter a position on the board. Must be a number from 1 to 9: 7\n",
      " X | X | O\n",
      "------------ \n",
      " O | O | X\n",
      "-----------\n",
      " X | O | X\n",
      "Please enter a position on the board. Must be a number from 1 to 9: 5\n",
      " X | X | O\n",
      "------------ \n",
      " O | O | X\n",
      "-----------\n",
      " X | O | X\n",
      "Please enter a position on the board. Must be a number from 1 to 9: 8\n",
      " X | X | O\n",
      "------------ \n",
      " O | O | X\n",
      "-----------\n",
      " X | O | X\n",
      "Please enter a position on the board. Must be a number from 1 to 9: 9\n",
      " X | X | O\n",
      "------------ \n",
      " O | O | X\n",
      "-----------\n",
      " X | O | X\n"
     ]
    }
   ],
   "source": [
    "print(\"Welcome to the game!\")\n",
    "\n",
    "while True: \n",
    "    #reset the board\n",
    "    the_board = [' '] * 10\n",
    "    turn = choose_first()\n",
    "    player_1_marker, player_2_marker = player_input()\n",
    "    print(turn + ' will go first.')\n",
    "    game_on = True\n",
    "    \n",
    "    while game_on:\n",
    "        if turn == 'Player 1':\n",
    "            display_board(the_board)\n",
    "            position = player_choice(the_board)\n",
    "            place_marker(the_board, player_1_marker, position)\n",
    "            \n",
    "            if win_check(the_board, player_1_marker):\n",
    "                display_board(the_board)\n",
    "                print('Congratulations you have won the game!')\n",
    "                game_on = False\n",
    "            else:\n",
    "                if full_board_check(the_board):\n",
    "                    display_board(the_board)\n",
    "                    print('The game is a draw!')\n",
    "                    break\n",
    "                else:\n",
    "                    turn = 'Player 2'\n",
    "                    \n",
    "        else:\n",
    "            display_board(the_board)\n",
    "            position = player_choice(the_board)\n",
    "            place_marker(the_board, player_2_marker, position)\n",
    "            \n",
    "            if win_check(the_board, player_2_marker):\n",
    "                display_board(the_board)\n",
    "                print('Congratulations you have won the game!')\n",
    "                game_on = False\n",
    "            else:\n",
    "                if full_board_check(the_board):\n",
    "                    display_board(the_board)\n",
    "                    print('The game is a draw!')\n",
    "                    break\n",
    "                else:\n",
    "                    turn = 'Player 1' \n",
    "                    \n",
    "    if not replay():\n",
    "        break"
   ]
  },
  {
   "cell_type": "code",
   "execution_count": null,
   "metadata": {
    "collapsed": true
   },
   "outputs": [],
   "source": []
  },
  {
   "cell_type": "code",
   "execution_count": null,
   "metadata": {
    "collapsed": true
   },
   "outputs": [],
   "source": []
  }
 ],
 "metadata": {
  "anaconda-cloud": {},
  "kernelspec": {
   "display_name": "Python [conda root]",
   "language": "python",
   "name": "conda-root-py"
  },
  "language_info": {
   "codemirror_mode": {
    "name": "ipython",
    "version": 2
   },
   "file_extension": ".py",
   "mimetype": "text/x-python",
   "name": "python",
   "nbconvert_exporter": "python",
   "pygments_lexer": "ipython2",
   "version": "2.7.12"
  }
 },
 "nbformat": 4,
 "nbformat_minor": 1
}
