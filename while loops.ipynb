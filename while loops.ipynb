{
 "cells": [
  {
   "cell_type": "code",
   "execution_count": 4,
   "metadata": {
    "collapsed": false
   },
   "outputs": [
    {
     "name": "stdout",
     "output_type": "stream",
     "text": [
      "x is currently:  0\n",
      "x is currently:  1\n",
      "x is currently:  2\n",
      "x is currently:  3\n",
      "x is currently:  4\n",
      "x is currently:  5\n",
      "x is currently:  6\n",
      "x is currently:  7\n",
      "x is currently:  8\n",
      "x is currently:  9\n",
      "all done\n"
     ]
    }
   ],
   "source": [
    "x = 0\n",
    "while x < 10:\n",
    "    print 'x is currently: ',x\n",
    "    x +=1\n",
    "else:\n",
    "    print 'all done'"
   ]
  },
  {
   "cell_type": "code",
   "execution_count": 5,
   "metadata": {
    "collapsed": true
   },
   "outputs": [],
   "source": [
    "#break, continue, pass"
   ]
  },
  {
   "cell_type": "code",
   "execution_count": 7,
   "metadata": {
    "collapsed": false
   },
   "outputs": [
    {
     "name": "stdout",
     "output_type": "stream",
     "text": [
      "x is currently  0\n",
      "x is still less than 10, adding 1 to x\n",
      "continuing...\n",
      "x is currently  1\n",
      "x is still less than 10, adding 1 to x\n",
      "continuing...\n",
      "x is currently  2\n",
      "x is still less than 10, adding 1 to x\n",
      "x is equal to 3!\n"
     ]
    }
   ],
   "source": [
    "x = 0\n",
    "while x < 10:\n",
    "    print 'x is currently ',x\n",
    "    print 'x is still less than 10, adding 1 to x'\n",
    "    x += 1\n",
    "    \n",
    "    if x == 3:\n",
    "        print 'x is equal to 3!'\n",
    "        break\n",
    "    else:\n",
    "        print 'continuing...'\n",
    "        continue"
   ]
  },
  {
   "cell_type": "code",
   "execution_count": null,
   "metadata": {
    "collapsed": true
   },
   "outputs": [],
   "source": []
  }
 ],
 "metadata": {
  "kernelspec": {
   "display_name": "Python [conda root]",
   "language": "python",
   "name": "conda-root-py"
  },
  "language_info": {
   "codemirror_mode": {
    "name": "ipython",
    "version": 2
   },
   "file_extension": ".py",
   "mimetype": "text/x-python",
   "name": "python",
   "nbconvert_exporter": "python",
   "pygments_lexer": "ipython2",
   "version": "2.7.12"
  }
 },
 "nbformat": 4,
 "nbformat_minor": 1
}
